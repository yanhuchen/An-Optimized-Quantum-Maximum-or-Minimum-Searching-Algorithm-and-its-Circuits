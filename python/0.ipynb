{
 "cells": [
  {
   "cell_type": "code",
   "execution_count": 1,
   "metadata": {},
   "outputs": [
    {
     "data": {
      "text/plain": [
       "[{'token': '003291c16eb429714d12e692e30a659fbaeeac899511352219d02e96ceb0b4d55be7b29b3dd777c6c5e9c16a0d26addfc0f76d626ebef931273c7f96bf409d09',\n",
       "  'url': 'https://quantumexperience.ng.bluemix.net/api'}]"
      ]
     },
     "execution_count": 1,
     "metadata": {},
     "output_type": "execute_result"
    }
   ],
   "source": [
    "import numpy as np\n",
    "from qiskit import QuantumCircuit, ClassicalRegister, QuantumRegister\n",
    "from qiskit import execute\n",
    "from qiskit import BasicAer\n",
    "from qiskit.tools.visualization import plot_histogram\n",
    "from qiskit import IBMQ\n",
    "from qiskit.providers.ibmq import least_busy\n",
    "from qiskit.tools.monitor import job_monitor\n",
    "import numpy as np\n",
    "from math import pi\n",
    "\n",
    "my_api_token = '003291c16eb429714d12e692e30a659fbaeeac899511352219d02e96ceb0b4d55be7b29b3dd777c6c5e9c16a0d26addfc0f76d626ebef931273c7f96bf409d09'\n",
    "url = 'https://quantumexperience.ng.bluemix.net/qx/account/advanced'\n",
    "IBMQ.save_account(my_api_token, url, overwrite=True)\n",
    "\n",
    "IBMQ.stored_accounts()\n",
    "IBMQ.enable_account(my_api_token)\n",
    "IBMQ.active_accounts()"
   ]
  },
  {
   "cell_type": "code",
   "execution_count": 2,
   "metadata": {},
   "outputs": [
    {
     "name": "stdout",
     "output_type": "stream",
     "text": [
      "{'101': 2048}\n"
     ]
    },
    {
     "data": {
      "image/png": "[encoded data removed]",
      "text/plain": [
       "<Figure size 504x360 with 1 Axes>"
      ]
     },
     "execution_count": 2,
     "metadata": {},
     "output_type": "execute_result"
    }
   ],
   "source": [
    "#N=4,M=1,d0=3,|psi>=1/2[1,1,1,1]\n",
    "phi=pi\n",
    "J=0\n",
    "# Create a Quantum Register with 3 qubits.\n",
    "n = 3\n",
    "qr = QuantumRegister(n)#Oracle工作空间为qr[0]\n",
    "cr = ClassicalRegister(n)\n",
    "qc = QuantumCircuit(qr,cr)\n",
    "\n",
    "qc.h(qr[2])\n",
    "qc.h(qr[0])\n",
    "\n",
    "for i in range(int(J)+1):\n",
    "    #oracle 标记11\n",
    "    qc.cu1(phi,qr[2],qr[0])\n",
    "    \n",
    "    #Hn\n",
    "    qc.h(qr[2])\n",
    "    qc.h(qr[0])\n",
    "\n",
    "    #条件相移\n",
    "    qc.x(qr[2])\n",
    "    qc.u1(phi,qr[2])\n",
    "    qc.cu1(-phi,qr[2],qr[0])\n",
    "    qc.x(qr[2])\n",
    "        \n",
    "    #Hn\n",
    "    qc.h(qr[2])\n",
    "    qc.h(qr[0])\n",
    "\n",
    "#测量\n",
    "\n",
    "qc.measure(qr[0],cr[0])\n",
    "qc.measure(qr[2],cr[2])\n",
    "\n",
    "backend_sim = BasicAer.get_backend('qasm_simulator')\n",
    "\n",
    "# Execute the circuit on the qasm simulator.\n",
    "# We've set the number of repeats of the circuit\n",
    "# to be 1024, which is the default.\n",
    "job_sim = execute(qc, backend_sim, shots=2048)\n",
    "\n",
    "# Grab the results from the job.\n",
    "result_sim = job_sim.result()\n",
    "counts = result_sim.get_counts(qc)\n",
    "\n",
    "\n",
    "print(counts)\n",
    "plot_histogram(counts)"
   ]
  },
  {
   "cell_type": "code",
   "execution_count": 4,
   "metadata": {},
   "outputs": [
    {
     "name": "stdout",
     "output_type": "stream",
     "text": [
      "Available backends: [<IBMQBackend('ibmqx4') from IBMQ()>, <IBMQBackend('ibmqx2') from IBMQ()>, <IBMQBackend('ibmq_16_melbourne') from IBMQ()>, <IBMQSimulator('ibmq_qasm_simulator') from IBMQ()>]\n",
      "ibmqx2\n",
      "Job Status: job has successfully run\n"
     ]
    },
    {
     "data": {
      "image/png": "[encoded data removed]",
      "text/plain": [
       "<Figure size 504x360 with 1 Axes>"
      ]
     },
     "execution_count": 4,
     "metadata": {},
     "output_type": "execute_result"
    }
   ],
   "source": [
    "#IBMQ.load_accounts()\n",
    "print(\"Available backends:\",IBMQ.backends())\n",
    "\n",
    "large_enough_devices = IBMQ.backends(filters=lambda x: x.configuration().n_qubits < 16 and\n",
    "                                                       not x.configuration().simulator)\n",
    "#backend = least_busy(large_enough_devices)\n",
    "backend = IBMQ.get_backend('ibmqx2') \n",
    "print(backend)\n",
    "\n",
    "shots = 8192           # Number of shots to run the program (experiment); maximum is 8192 shots.\n",
    "max_credits = 5        # Maximum number of credits to spend on executions. \n",
    "job_exp = execute(qc, backend=backend, shots=shots, max_credits=max_credits)\n",
    "job_monitor(job_exp)\n",
    "result_exp = job_exp.result()\n",
    "counts_exp = result_exp.get_counts(qc)\n",
    "plot_histogram([counts_exp,counts])"
   ]
  },
  {
   "cell_type": "code",
   "execution_count": null,
   "metadata": {},
   "outputs": [],
   "source": []
  }
 ],
 "metadata": {
  "kernelspec": {
   "display_name": "Python 3",
   "language": "python",
   "name": "python3"
  },
  "language_info": {
   "codemirror_mode": {
    "name": "ipython",
    "version": 3
   },
   "file_extension": ".py",
   "mimetype": "text/x-python",
   "name": "python",
   "nbconvert_exporter": "python",
   "pygments_lexer": "ipython3",
   "version": "3.6.7"
  }
 },
 "nbformat": 4,
 "nbformat_minor": 2
}
