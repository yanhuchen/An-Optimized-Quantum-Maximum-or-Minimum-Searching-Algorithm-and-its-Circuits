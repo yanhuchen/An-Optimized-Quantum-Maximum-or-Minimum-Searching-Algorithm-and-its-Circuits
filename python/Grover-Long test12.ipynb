{
 "cells": [
  {
   "cell_type": "code",
   "execution_count": 2,
   "metadata": {},
   "outputs": [],
   "source": [
    "import numpy as np\n",
    "from qiskit import QuantumCircuit, ClassicalRegister, QuantumRegister\n",
    "from qiskit import execute\n",
    "from qiskit import BasicAer\n",
    "from qiskit.tools.visualization import plot_histogram\n",
    "from qiskit import IBMQ\n",
    "from qiskit.providers.ibmq import least_busy\n",
    "from qiskit.tools.monitor import job_monitor\n",
    "import numpy as np\n",
    "from math import pi"
   ]
  },
  {
   "cell_type": "code",
   "execution_count": 3,
   "metadata": {},
   "outputs": [
    {
     "name": "stdout",
     "output_type": "stream",
     "text": [
      "{'11': 2048}\n"
     ]
    },
    {
     "name": "stderr",
     "output_type": "stream",
     "text": [
      "D:\\Anaconda3\\lib\\site-packages\\marshmallow\\schema.py:364: ChangedInMarshmallow3Warning: strict=False is not recommended. In marshmallow 3.0, schemas will always be strict. See https://marshmallow.readthedocs.io/en/latest/upgrading.html#schemas-are-always-strict\n",
      "  ChangedInMarshmallow3Warning\n"
     ]
    },
    {
     "data": {
      "image/png": "[encoded data removed]",
      "text/plain": [
       "<Figure size 504x360 with 1 Axes>"
      ]
     },
     "execution_count": 3,
     "metadata": {},
     "output_type": "execute_result"
    }
   ],
   "source": [
    "#N=4,M=1,d0=3,|psi>=1/2[1,1,1,1]\n",
    "phi=pi\n",
    "J=0\n",
    "# Create a Quantum Register with 3 qubits.\n",
    "n = 2\n",
    "qr = QuantumRegister(n)#Oracle工作空间为qr[0]\n",
    "cr = ClassicalRegister(n)\n",
    "qc = QuantumCircuit(qr,cr)\n",
    "\n",
    "qc.h(qr[1])\n",
    "qc.h(qr[0])\n",
    "\n",
    "for i in range(int(J)+1):\n",
    "    #oracle 标记11\n",
    "    qc.cu1(phi,qr[1],qr[0])\n",
    "    \n",
    "    #Hn\n",
    "    qc.h(qr[1])\n",
    "    qc.h(qr[0])\n",
    "\n",
    "    #条件相移\n",
    "    qc.x(qr[1])\n",
    "    qc.u1(phi,qr[1])\n",
    "    qc.cu1(-phi,qr[1],qr[0])\n",
    "    qc.x(qr[1])\n",
    "        \n",
    "    #Hn\n",
    "    qc.h(qr[1])\n",
    "    qc.h(qr[0])\n",
    "\n",
    "#测量\n",
    "for i in range(n):\n",
    "    qc.measure(qr[i],cr[i])\n",
    "\n",
    "backend_sim = BasicAer.get_backend('qasm_simulator')\n",
    "\n",
    "# Execute the circuit on the qasm simulator.\n",
    "# We've set the number of repeats of the circuit\n",
    "# to be 1024, which is the default.\n",
    "job_sim = execute(qc, backend_sim, shots=2048)\n",
    "\n",
    "# Grab the results from the job.\n",
    "result_sim = job_sim.result()\n",
    "counts = result_sim.get_counts(qc)\n",
    "\n",
    "\n",
    "print(counts)\n",
    "plot_histogram(counts)"
   ]
  },
  {
   "cell_type": "code",
   "execution_count": 56,
   "metadata": {},
   "outputs": [
    {
     "name": "stdout",
     "output_type": "stream",
     "text": [
      "{'11': 2029, '10': 2067}\n"
     ]
    },
    {
     "data": {
      "image/png": "[encoded data removed]",
      "text/plain": [
       "<Figure size 504x360 with 1 Axes>"
      ]
     },
     "execution_count": 56,
     "metadata": {},
     "output_type": "execute_result"
    }
   ],
   "source": [
    "#N=4,M=2,d0=2,|psi>=1/2[1,1,1,1]\n",
    "phi=pi/2\n",
    "J=0\n",
    "# Create a Quantum Register with 3 qubits.\n",
    "n = 2\n",
    "qr = QuantumRegister(n)#Oracle工作空间为qr[0]\n",
    "cr = ClassicalRegister(n)\n",
    "qc = QuantumCircuit(qr,cr)\n",
    "\n",
    "qc.h(qr[1])\n",
    "qc.h(qr[0])\n",
    "\n",
    "for i in range(int(J)+1):\n",
    "    #oracle 标记11\n",
    "    qc.u1(phi,qr[1])\n",
    "    \n",
    "    #Hn\n",
    "    qc.h(qr[1])\n",
    "    qc.h(qr[0])\n",
    "\n",
    "    #条件相移\n",
    "    qc.x(qr[1])\n",
    "    qc.u1(phi,qr[1])\n",
    "    qc.cu1(-phi,qr[1],qr[0])\n",
    "    qc.x(qr[1])\n",
    "        \n",
    "    #Hn\n",
    "    qc.h(qr[1])\n",
    "    qc.h(qr[0])\n",
    "\n",
    "#测量\n",
    "for i in range(n):\n",
    "    qc.measure(qr[i],cr[i])\n",
    "\n",
    "backend_sim = BasicAer.get_backend('qasm_simulator')\n",
    "\n",
    "# Execute the circuit on the qasm simulator.\n",
    "# We've set the number of repeats of the circuit\n",
    "# to be 1024, which is the default.\n",
    "job_sim = execute(qc, backend_sim, shots=4096)\n",
    "\n",
    "# Grab the results from the job.\n",
    "result_sim = job_sim.result()\n",
    "counts = result_sim.get_counts(qc)\n",
    "\n",
    "\n",
    "print(counts)\n",
    "plot_histogram(counts)"
   ]
  },
  {
   "cell_type": "code",
   "execution_count": 49,
   "metadata": {},
   "outputs": [
    {
     "name": "stdout",
     "output_type": "stream",
     "text": [
      "{'11': 1265, '10': 1412, '01': 1419}\n"
     ]
    },
    {
     "data": {
      "image/png": "[encoded data removed]",
      "text/plain": [
       "<Figure size 504x360 with 1 Axes>"
      ]
     },
     "execution_count": 49,
     "metadata": {},
     "output_type": "execute_result"
    }
   ],
   "source": [
    "#N=4,M=3,d0=1,|psi>=1/2*[1,1,1,1]\n",
    "phi=1.2310\n",
    "J=0\n",
    "# Create a Quantum Register with 3 qubits.\n",
    "n = 2\n",
    "qr = QuantumRegister(n)#Oracle工作空间为qr[0]\n",
    "cr = ClassicalRegister(n)\n",
    "qc = QuantumCircuit(qr,cr)\n",
    "\n",
    "qc.h(qr[1])\n",
    "qc.h(qr[0])\n",
    "\n",
    "for i in range(int(J)+1):\n",
    "    #oracle 标记11\n",
    "    qc.x(qr[1])\n",
    "    qc.cu1(phi,qr[1],qr[0])\n",
    "    qc.x(qr[1])\n",
    "    qc.u1(phi,qr[1])\n",
    "    \n",
    "    #Hn\n",
    "    qc.h(qr[1])\n",
    "    qc.h(qr[0])\n",
    "\n",
    "    #条件相移\n",
    "    qc.x(qr[1])\n",
    "    qc.u1(phi,qr[1])\n",
    "    qc.cu1(-phi,qr[1],qr[0])\n",
    "    qc.x(qr[1])\n",
    "        \n",
    "    #Hn\n",
    "    qc.h(qr[1])\n",
    "    qc.h(qr[0])\n",
    "\n",
    "#测量\n",
    "for i in range(n):\n",
    "    qc.measure(qr[i],cr[i])\n",
    "\n",
    "backend_sim = BasicAer.get_backend('qasm_simulator')\n",
    "\n",
    "# Execute the circuit on the qasm simulator.\n",
    "# We've set the number of repeats of the circuit\n",
    "# to be 1024, which is the default.\n",
    "job_sim = execute(qc, backend_sim, shots=4096)\n",
    "\n",
    "# Grab the results from the job.\n",
    "result_sim = job_sim.result()\n",
    "counts = result_sim.get_counts(qc)\n",
    "\n",
    "\n",
    "print(counts)\n",
    "plot_histogram(counts)"
   ]
  },
  {
   "cell_type": "code",
   "execution_count": 51,
   "metadata": {},
   "outputs": [
    {
     "name": "stdout",
     "output_type": "stream",
     "text": [
      "{'11': 1907, '10': 73, '01': 68}\n"
     ]
    },
    {
     "data": {
      "image/png": "[encoded data removed]",
      "text/plain": [
       "<Figure size 504x360 with 1 Axes>"
      ]
     },
     "execution_count": 51,
     "metadata": {},
     "output_type": "execute_result"
    }
   ],
   "source": [
    "#3 N=3,M=1,d0=3,|psi>=1/2[0,1,1,1]\n",
    "phi=pi\n",
    "J=0\n",
    "# Create a Quantum Register with 3 qubits.\n",
    "n = 2\n",
    "qr = QuantumRegister(n)#Oracle工作空间为qr[0]\n",
    "cr = ClassicalRegister(n)\n",
    "qc = QuantumCircuit(qr,cr)\n",
    "\n",
    "qc.ry(1.9106,qr[1])\n",
    "qc.x(qr[1])\n",
    "qc.cx(qr[1],qr[0])\n",
    "qc.x(qr[1])\n",
    "qc.ch(qr[1],qr[0])\n",
    "\n",
    "for i in range(int(J)+1):\n",
    "    #oracle 标记11\n",
    "    qc.cu1(phi,qr[1],qr[0])\n",
    "    \n",
    "    #Hn\n",
    "    qc.ch(qr[1],qr[0])\n",
    "    qc.x(qr[1])\n",
    "    qc.cx(qr[1],qr[0])\n",
    "    qc.x(qr[1])\n",
    "    qc.ry(-1.9106,qr[1])\n",
    "\n",
    "    #条件相移\n",
    "    qc.x(qr[1])\n",
    "    qc.u1(phi,qr[1])\n",
    "    qc.cu1(-phi,qr[1],qr[0])\n",
    "    qc.x(qr[1])\n",
    "        \n",
    "    #Hn\n",
    "    qc.ry(1.9106,qr[1])\n",
    "    qc.x(qr[1])\n",
    "    qc.cx(qr[1],qr[0])\n",
    "    qc.x(qr[1])\n",
    "    qc.ch(qr[1],qr[0])\n",
    "\n",
    "#测量\n",
    "for i in range(n):\n",
    "    qc.measure(qr[i],cr[i])\n",
    "\n",
    "backend_sim = BasicAer.get_backend('qasm_simulator')\n",
    "\n",
    "# Execute the circuit on the qasm simulator.\n",
    "# We've set the number of repeats of the circuit\n",
    "# to be 1024, which is the default.\n",
    "job_sim = execute(qc, backend_sim, shots=2048)\n",
    "\n",
    "# Grab the results from the job.\n",
    "result_sim = job_sim.result()\n",
    "counts = result_sim.get_counts(qc)\n",
    "\n",
    "\n",
    "print(counts)\n",
    "plot_histogram(counts)"
   ]
  },
  {
   "cell_type": "code",
   "execution_count": 58,
   "metadata": {},
   "outputs": [
    {
     "name": "stdout",
     "output_type": "stream",
     "text": [
      "{'11': 1896, '10': 84, '00': 68}\n"
     ]
    },
    {
     "data": {
      "image/png": "[encoded data removed]",
      "text/plain": [
       "<Figure size 504x360 with 1 Axes>"
      ]
     },
     "execution_count": 58,
     "metadata": {},
     "output_type": "execute_result"
    }
   ],
   "source": [
    "#4 N=3,M=1,d0=3,|psi>=1/2[1,0,1,1]\n",
    "phi=pi\n",
    "J=0\n",
    "# Create a Quantum Register with 3 qubits.\n",
    "n = 2\n",
    "qr = QuantumRegister(n)#Oracle工作空间为qr[0]\n",
    "cr = ClassicalRegister(n)\n",
    "qc = QuantumCircuit(qr,cr)\n",
    "\n",
    "qc.ry(1.9106,qr[1])\n",
    "qc.ch(qr[1],qr[0])\n",
    "\n",
    "for i in range(int(J)+1):\n",
    "    #oracle 标记11\n",
    "    qc.cu1(phi,qr[1],qr[0])\n",
    "    \n",
    "    #Hn\n",
    "    qc.ch(qr[1],qr[0])\n",
    "    qc.ry(-1.9106,qr[1])\n",
    "\n",
    "    #条件相移\n",
    "    qc.x(qr[1])\n",
    "    qc.u1(phi,qr[1])\n",
    "    qc.cu1(-phi,qr[1],qr[0])\n",
    "    qc.x(qr[1])\n",
    "        \n",
    "    #Hn\n",
    "    qc.ry(1.9106,qr[1])\n",
    "    qc.ch(qr[1],qr[0])\n",
    "\n",
    "#测量\n",
    "for i in range(n):\n",
    "    qc.measure(qr[i],cr[i])\n",
    "\n",
    "backend_sim = BasicAer.get_backend('qasm_simulator')\n",
    "\n",
    "# Execute the circuit on the qasm simulator.\n",
    "# We've set the number of repeats of the circuit\n",
    "# to be 1024, which is the default.\n",
    "job_sim = execute(qc, backend_sim, shots=2048)\n",
    "\n",
    "# Grab the results from the job.\n",
    "result_sim = job_sim.result()\n",
    "counts = result_sim.get_counts(qc)\n",
    "\n",
    "\n",
    "print(counts)\n",
    "plot_histogram(counts)"
   ]
  },
  {
   "cell_type": "code",
   "execution_count": 19,
   "metadata": {},
   "outputs": [
    {
     "name": "stdout",
     "output_type": "stream",
     "text": [
      "{'10': 1898, '00': 89, '01': 61}\n"
     ]
    },
    {
     "data": {
      "image/png": "[encoded data removed]",
      "text/plain": [
       "<Figure size 504x360 with 1 Axes>"
      ]
     },
     "execution_count": 19,
     "metadata": {},
     "output_type": "execute_result"
    }
   ],
   "source": [
    "#6 N=3,M=2,d0=2,|psi>=1/2[1,1,1,0]\n",
    "phi=pi/2\n",
    "J=0\n",
    "# Create a Quantum Register with 3 qubits.\n",
    "n = 2\n",
    "qr = QuantumRegister(n)#Oracle工作空间为qr[0]\n",
    "cr = ClassicalRegister(n)\n",
    "qc = QuantumCircuit(qr,cr)\n",
    "\n",
    "qc.ry(1.2310,qr[1])\n",
    "qc.x(qr[1])\n",
    "qc.ch(qr[1],qr[0])\n",
    "qc.x(qr[1])\n",
    "\n",
    "for i in range(int(J)+1):\n",
    "    #oracle 标记11\n",
    "    qc.u1(phi,qr[1])\n",
    "    \n",
    "    #Hn\n",
    "    qc.x(qr[1])\n",
    "    qc.ch(qr[1],qr[0])\n",
    "    qc.x(qr[1])\n",
    "    qc.ry(-1.2310,qr[1])\n",
    "\n",
    "    #条件相移\n",
    "    qc.x(qr[1])\n",
    "    qc.u1(phi,qr[1])\n",
    "    qc.cu1(-phi,qr[1],qr[0])\n",
    "    qc.x(qr[1])\n",
    "        \n",
    "    #Hn\n",
    "    qc.ry(1.2310,qr[1])\n",
    "    qc.x(qr[1])\n",
    "    qc.ch(qr[1],qr[0])\n",
    "    qc.x(qr[1])\n",
    "\n",
    "#测量\n",
    "for i in range(n):\n",
    "    qc.measure(qr[i],cr[i])\n",
    "\n",
    "backend_sim = BasicAer.get_backend('qasm_simulator')\n",
    "\n",
    "# Execute the circuit on the qasm simulator.\n",
    "# We've set the number of repeats of the circuit\n",
    "# to be 1024, which is the default.\n",
    "job_sim = execute(qc, backend_sim, shots=2048)\n",
    "\n",
    "# Grab the results from the job.\n",
    "result_sim = job_sim.result()\n",
    "counts = result_sim.get_counts(qc)\n",
    "\n",
    "\n",
    "print(counts)\n",
    "plot_histogram(counts)"
   ]
  },
  {
   "cell_type": "code",
   "execution_count": 20,
   "metadata": {},
   "outputs": [
    {
     "name": "stdout",
     "output_type": "stream",
     "text": [
      "{'11': 960, '10': 1001, '00': 87}\n"
     ]
    },
    {
     "data": {
      "image/png": "[encoded data removed]",
      "text/plain": [
       "<Figure size 504x360 with 1 Axes>"
      ]
     },
     "execution_count": 20,
     "metadata": {},
     "output_type": "execute_result"
    }
   ],
   "source": [
    "#7 N=3,M=2,d0=2,|psi>=1/2[1,0,1,1]\n",
    "phi=pi/2\n",
    "J=0\n",
    "# Create a Quantum Register with 3 qubits.\n",
    "n = 2\n",
    "qr = QuantumRegister(n)#Oracle工作空间为qr[0]\n",
    "cr = ClassicalRegister(n)\n",
    "qc = QuantumCircuit(qr,cr)\n",
    "\n",
    "qc.ry(1.9106,qr[1])\n",
    "qc.ch(qr[1],qr[0])\n",
    "\n",
    "for i in range(int(J)+1):\n",
    "    #oracle 标记11\n",
    "    qc.u1(phi,qr[1])\n",
    "    \n",
    "    #Hn\n",
    "    qc.ch(qr[1],qr[0])\n",
    "    qc.ry(-1.9106,qr[1])\n",
    "\n",
    "    #条件相移\n",
    "    qc.x(qr[1])\n",
    "    qc.u1(phi,qr[1])\n",
    "    qc.cu1(-phi,qr[1],qr[0])\n",
    "    qc.x(qr[1])\n",
    "        \n",
    "    #Hn\n",
    "    qc.ry(1.9106,qr[1])\n",
    "    qc.ch(qr[1],qr[0])\n",
    "\n",
    "#测量\n",
    "for i in range(n):\n",
    "    qc.measure(qr[i],cr[i])\n",
    "\n",
    "backend_sim = BasicAer.get_backend('qasm_simulator')\n",
    "\n",
    "# Execute the circuit on the qasm simulator.\n",
    "# We've set the number of repeats of the circuit\n",
    "# to be 1024, which is the default.\n",
    "job_sim = execute(qc, backend_sim, shots=2048)\n",
    "\n",
    "# Grab the results from the job.\n",
    "result_sim = job_sim.result()\n",
    "counts = result_sim.get_counts(qc)\n",
    "\n",
    "\n",
    "print(counts)\n",
    "plot_histogram(counts)"
   ]
  },
  {
   "cell_type": "code",
   "execution_count": 21,
   "metadata": {},
   "outputs": [
    {
     "name": "stdout",
     "output_type": "stream",
     "text": [
      "{'11': 1007, '10': 952, '01': 89}\n"
     ]
    },
    {
     "data": {
      "image/png": "[encoded data removed]",
      "text/plain": [
       "<Figure size 504x360 with 1 Axes>"
      ]
     },
     "execution_count": 21,
     "metadata": {},
     "output_type": "execute_result"
    }
   ],
   "source": [
    "#8 N=3,M=2,d0=2,|psi>=1/2[0,1,1,1]\n",
    "phi=pi/2\n",
    "J=0\n",
    "# Create a Quantum Register with 3 qubits.\n",
    "n = 2\n",
    "qr = QuantumRegister(n)#Oracle工作空间为qr[0]\n",
    "cr = ClassicalRegister(n)\n",
    "qc = QuantumCircuit(qr,cr)\n",
    "\n",
    "qc.ry(1.9106,qr[1])\n",
    "qc.x(qr[1])\n",
    "qc.cx(qr[1],qr[0])\n",
    "qc.x(qr[1])\n",
    "qc.ch(qr[1],qr[0])\n",
    "\n",
    "for i in range(int(J)+1):\n",
    "    #oracle 标记11\n",
    "    qc.u1(phi,qr[1])\n",
    "    \n",
    "    #Hn\n",
    "    qc.ch(qr[1],qr[0])\n",
    "    qc.x(qr[1])\n",
    "    qc.cx(qr[1],qr[0])\n",
    "    qc.x(qr[1])\n",
    "    qc.ry(-1.9106,qr[1])\n",
    "\n",
    "    #条件相移\n",
    "    qc.x(qr[1])\n",
    "    qc.u1(phi,qr[1])\n",
    "    qc.cu1(-phi,qr[1],qr[0])\n",
    "    qc.x(qr[1])\n",
    "        \n",
    "    #Hn\n",
    "    qc.ry(1.9106,qr[1])\n",
    "    qc.x(qr[1])\n",
    "    qc.cx(qr[1],qr[0])\n",
    "    qc.x(qr[1])\n",
    "    qc.ch(qr[1],qr[0])\n",
    "\n",
    "#测量\n",
    "for i in range(n):\n",
    "    qc.measure(qr[i],cr[i])\n",
    "\n",
    "backend_sim = BasicAer.get_backend('qasm_simulator')\n",
    "\n",
    "# Execute the circuit on the qasm simulator.\n",
    "# We've set the number of repeats of the circuit\n",
    "# to be 1024, which is the default.\n",
    "job_sim = execute(qc, backend_sim, shots=2048)\n",
    "\n",
    "# Grab the results from the job.\n",
    "result_sim = job_sim.result()\n",
    "counts = result_sim.get_counts(qc)\n",
    "\n",
    "\n",
    "print(counts)\n",
    "plot_histogram(counts)"
   ]
  },
  {
   "cell_type": "code",
   "execution_count": 24,
   "metadata": {},
   "outputs": [
    {
     "name": "stdout",
     "output_type": "stream",
     "text": [
      "{'11': 700, '10': 677, '01': 671}\n"
     ]
    },
    {
     "data": {
      "image/png": "[encoded data removed]",
      "text/plain": [
       "<Figure size 504x360 with 1 Axes>"
      ]
     },
     "execution_count": 24,
     "metadata": {},
     "output_type": "execute_result"
    }
   ],
   "source": [
    "#9 N=3,M=3,d0=1,|psi>=1/2[0,1,1,1]\n",
    "phi=1.2310\n",
    "J=0\n",
    "# Create a Quantum Register with 3 qubits.\n",
    "n = 2\n",
    "qr = QuantumRegister(n)#Oracle工作空间为qr[0]\n",
    "cr = ClassicalRegister(n)\n",
    "qc = QuantumCircuit(qr,cr)\n",
    "\n",
    "qc.ry(1.9106,qr[1])\n",
    "qc.x(qr[1])\n",
    "qc.cx(qr[1],qr[0])\n",
    "qc.x(qr[1])\n",
    "qc.ch(qr[1],qr[0])\n",
    "\n",
    "for i in range(int(J)+1):\n",
    "    #oracle 标记11\n",
    "    qc.u1(phi,qr[1])\n",
    "    qc.x(qr[1])\n",
    "    qc.cu1(phi,qr[1],qr[0])\n",
    "    qc.x(qr[1])\n",
    "    \n",
    "    #Hn\n",
    "    qc.ch(qr[1],qr[0])\n",
    "    qc.x(qr[1])\n",
    "    qc.cx(qr[1],qr[0])\n",
    "    qc.x(qr[1])\n",
    "    qc.ry(-1.9106,qr[1])\n",
    "\n",
    "    #条件相移\n",
    "    qc.x(qr[1])\n",
    "    qc.u1(phi,qr[1])\n",
    "    qc.cu1(-phi,qr[1],qr[0])\n",
    "    qc.x(qr[1])\n",
    "        \n",
    "    #Hn\n",
    "    qc.ry(1.9106,qr[1])\n",
    "    qc.x(qr[1])\n",
    "    qc.cx(qr[1],qr[0])\n",
    "    qc.x(qr[1])\n",
    "    qc.ch(qr[1],qr[0])\n",
    "\n",
    "#测量\n",
    "for i in range(n):\n",
    "    qc.measure(qr[i],cr[i])\n",
    "\n",
    "backend_sim = BasicAer.get_backend('qasm_simulator')\n",
    "\n",
    "# Execute the circuit on the qasm simulator.\n",
    "# We've set the number of repeats of the circuit\n",
    "# to be 1024, which is the default.\n",
    "job_sim = execute(qc, backend_sim, shots=2048)\n",
    "\n",
    "# Grab the results from the job.\n",
    "result_sim = job_sim.result()\n",
    "counts = result_sim.get_counts(qc)\n",
    "\n",
    "\n",
    "print(counts)\n",
    "plot_histogram(counts)"
   ]
  },
  {
   "cell_type": "code",
   "execution_count": 31,
   "metadata": {},
   "outputs": [
    {
     "name": "stdout",
     "output_type": "stream",
     "text": [
      "{'11': 1000, '00': 10, '01': 1038}\n"
     ]
    },
    {
     "data": {
      "image/png": "[encoded data removed]",
      "text/plain": [
       "<Figure size 504x360 with 1 Axes>"
      ]
     },
     "execution_count": 31,
     "metadata": {},
     "output_type": "execute_result"
    }
   ],
   "source": [
    "# 10 N=3,M=3,d0=1,|psi>=1/2[1,1,0,1]\n",
    "phi=2*np.arcsin(np.sqrt(1/3))\n",
    "J=0\n",
    "# Create a Quantum Register with 3 qubits.\n",
    "n = 2\n",
    "qr = QuantumRegister(n)#Oracle工作空间为qr[0]\n",
    "cr = ClassicalRegister(n)\n",
    "qc = QuantumCircuit(qr,cr)\n",
    "\n",
    "qc.ry(1.2310,qr[1])\n",
    "qc.x(qr[1])\n",
    "qc.ch(qr[1],qr[0])\n",
    "qc.x(qr[1])\n",
    "qc.cx(qr[1],qr[0])\n",
    "\n",
    "for i in range(int(J)+1):\n",
    "    #oracle 标记11\n",
    "    qc.u1(phi,qr[1])\n",
    "    qc.x(qr[1])\n",
    "    qc.cu1(phi,qr[1],qr[0])\n",
    "    qc.x(qr[1])\n",
    "    \n",
    "    #Hn\n",
    "    qc.cx(qr[1],qr[0])\n",
    "    qc.x(qr[1])\n",
    "    qc.ch(qr[1],qr[0])\n",
    "    qc.x(qr[1])\n",
    "    qc.ry(-1.2310,qr[1])\n",
    "\n",
    "    #条件相移\n",
    "    qc.x(qr[1])\n",
    "    qc.u1(phi,qr[1])\n",
    "    qc.cu1(-phi,qr[1],qr[0])\n",
    "    qc.x(qr[1])\n",
    "        \n",
    "    #Hn\n",
    "    qc.ry(1.2310,qr[1])\n",
    "    qc.x(qr[1])\n",
    "    qc.ch(qr[1],qr[0])\n",
    "    qc.x(qr[1])\n",
    "    qc.cx(qr[1],qr[0])\n",
    "\n",
    "#测量\n",
    "for i in range(n):\n",
    "    qc.measure(qr[i],cr[i])\n",
    "\n",
    "backend_sim = BasicAer.get_backend('qasm_simulator')\n",
    "\n",
    "# Execute the circuit on the qasm simulator.\n",
    "# We've set the number of repeats of the circuit\n",
    "# to be 1024, which is the default.\n",
    "job_sim = execute(qc, backend_sim, shots=2048)\n",
    "\n",
    "# Grab the results from the job.\n",
    "result_sim = job_sim.result()\n",
    "counts = result_sim.get_counts(qc)\n",
    "\n",
    "\n",
    "print(counts)\n",
    "plot_histogram(counts)"
   ]
  },
  {
   "cell_type": "code",
   "execution_count": 32,
   "metadata": {},
   "outputs": [
    {
     "name": "stdout",
     "output_type": "stream",
     "text": [
      "{'01': 1039, '10': 1002, '00': 7}\n"
     ]
    },
    {
     "data": {
      "image/png": "[encoded data removed]",
      "text/plain": [
       "<Figure size 504x360 with 1 Axes>"
      ]
     },
     "execution_count": 32,
     "metadata": {},
     "output_type": "execute_result"
    }
   ],
   "source": [
    "# 11 N=3,M=3,d0=1,|psi>=1/2[1,1,1,0]\n",
    "phi=2*np.arcsin(np.sqrt(1/3))\n",
    "J=0\n",
    "# Create a Quantum Register with 3 qubits.\n",
    "n = 2\n",
    "qr = QuantumRegister(n)#Oracle工作空间为qr[0]\n",
    "cr = ClassicalRegister(n)\n",
    "qc = QuantumCircuit(qr,cr)\n",
    "\n",
    "qc.ry(1.2310,qr[1])\n",
    "qc.x(qr[1])\n",
    "qc.ch(qr[1],qr[0])\n",
    "qc.x(qr[1])\n",
    "\n",
    "for i in range(int(J)+1):\n",
    "    #oracle 标记11\n",
    "    qc.u1(phi,qr[1])\n",
    "    qc.x(qr[1])\n",
    "    qc.cu1(phi,qr[1],qr[0])\n",
    "    qc.x(qr[1])\n",
    "    \n",
    "    #Hn\n",
    "    qc.x(qr[1])\n",
    "    qc.ch(qr[1],qr[0])\n",
    "    qc.x(qr[1])\n",
    "    qc.ry(-1.2310,qr[1])\n",
    "\n",
    "    #条件相移\n",
    "    qc.x(qr[1])\n",
    "    qc.u1(phi,qr[1])\n",
    "    qc.cu1(-phi,qr[1],qr[0])\n",
    "    qc.x(qr[1])\n",
    "        \n",
    "    #Hn\n",
    "    qc.ry(1.2310,qr[1])\n",
    "    qc.x(qr[1])\n",
    "    qc.ch(qr[1],qr[0])\n",
    "    qc.x(qr[1])\n",
    "\n",
    "#测量\n",
    "for i in range(n):\n",
    "    qc.measure(qr[i],cr[i])\n",
    "\n",
    "backend_sim = BasicAer.get_backend('qasm_simulator')\n",
    "\n",
    "# Execute the circuit on the qasm simulator.\n",
    "# We've set the number of repeats of the circuit\n",
    "# to be 1024, which is the default.\n",
    "job_sim = execute(qc, backend_sim, shots=2048)\n",
    "\n",
    "# Grab the results from the job.\n",
    "result_sim = job_sim.result()\n",
    "counts = result_sim.get_counts(qc)\n",
    "\n",
    "\n",
    "print(counts)\n",
    "plot_histogram(counts)"
   ]
  },
  {
   "cell_type": "code",
   "execution_count": null,
   "metadata": {},
   "outputs": [
    {
     "name": "stdout",
     "output_type": "stream",
     "text": [
      "Available backends: [<IBMQBackend('ibmqx4') from IBMQ()>, <IBMQBackend('ibmqx2') from IBMQ()>, <IBMQBackend('ibmq_16_melbourne') from IBMQ()>, <IBMQBackend('ibmq_qasm_simulator') from IBMQ()>]\n",
      "ibmqx4\n"
     ]
    },
    {
     "data": {
      "application/vnd.jupyter.widget-view+json": {
       "model_id": "08d9edc1e6094020a3926c6403f412f5",
       "version_major": 2,
       "version_minor": 0
      },
      "text/plain": [
       "HTML(value=\"<p style='font-size:16px;'>Job Status: job is being initialized </p>\")"
      ]
     },
     "metadata": {},
     "output_type": "display_data"
    },
    {
     "name": "stderr",
     "output_type": "stream",
     "text": [
      "Got a 502 code response to /api/Jobs/5cbfd8f949679f007a76f759/status: 502 Bad Gateway: Registered endpoint failed to handle the request.\n",
      "\n",
      "Got a 502 code response to /api/Jobs/5cbfd8f949679f007a76f759/status: 502 Bad Gateway: Registered endpoint failed to handle the request.\n",
      "\n",
      "Got a 502 code response to /api/Jobs/5cbfd8f949679f007a76f759/status: 502 Bad Gateway: Registered endpoint failed to handle the request.\n",
      "\n",
      "Got a 502 code response to /api/Jobs/5cbfd8f949679f007a76f759/status: 502 Bad Gateway: Registered endpoint failed to handle the request.\n",
      "\n"
     ]
    }
   ],
   "source": [
    "IBMQ.load_accounts()\n",
    "print(\"Available backends:\",IBMQ.backends())\n",
    "\n",
    "large_enough_devices = IBMQ.backends(filters=lambda x: x.configuration().n_qubits < 16 and\n",
    "                                                       not x.configuration().simulator)\n",
    "#backend = least_busy(large_enough_devices)\n",
    "backend = IBMQ.get_backend('ibmqx4') \n",
    "print(backend)\n",
    "\n",
    "shots = 8192           # Number of shots to run the program (experiment); maximum is 8192 shots.\n",
    "max_credits = 5        # Maximum number of credits to spend on executions. \n",
    "job_exp = execute(qc, backend=backend, shots=shots, max_credits=max_credits)\n",
    "job_monitor(job_exp)\n",
    "result_exp = job_exp.result()\n",
    "counts_exp = result_exp.get_counts(qc)\n",
    "plot_histogram([counts_exp,counts])"
   ]
  },
  {
   "cell_type": "code",
   "execution_count": 46,
   "metadata": {},
   "outputs": [
    {
     "name": "stdout",
     "output_type": "stream",
     "text": [
      "ibmqx4\n"
     ]
    }
   ],
   "source": [
    "print(backend)"
   ]
  },
  {
   "cell_type": "code",
   "execution_count": null,
   "metadata": {},
   "outputs": [],
   "source": []
  }
 ],
 "metadata": {
  "kernelspec": {
   "display_name": "Python 3",
   "language": "python",
   "name": "python3"
  },
  "language_info": {
   "codemirror_mode": {
    "name": "ipython",
    "version": 3
   },
   "file_extension": ".py",
   "mimetype": "text/x-python",
   "name": "python",
   "nbconvert_exporter": "python",
   "pygments_lexer": "ipython3",
   "version": "3.6.7"
  }
 },
 "nbformat": 4,
 "nbformat_minor": 2
}
